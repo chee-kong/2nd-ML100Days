{
 "cells": [
  {
   "cell_type": "markdown",
   "metadata": {},
   "source": [
    "### 作業\n",
    "目前已經學過許多的模型，相信大家對整體流程應該比較掌握了，這次作業請改用**手寫辨識資料集**，步驟流程都是一樣的，請試著自己撰寫程式碼來完成所有步驟"
   ]
  },
  {
   "cell_type": "code",
   "execution_count": 1,
   "metadata": {},
   "outputs": [],
   "source": [
    "from sklearn import datasets, metrics\n",
    "from sklearn.ensemble import GradientBoostingClassifier\n",
    "from sklearn.model_selection import train_test_split"
   ]
  },
  {
   "cell_type": "code",
   "execution_count": 2,
   "metadata": {},
   "outputs": [
    {
     "name": "stdout",
     "output_type": "stream",
     "text": [
      "Acuuracy:  0.9644444444444444\n"
     ]
    }
   ],
   "source": [
    "\n",
    "digits = datasets.load_digits()\n",
    "\n",
    "# 切分訓練集/測試集\n",
    "x_train, x_test, y_train, y_test = train_test_split(digits.data, digits.target, test_size=0.25, random_state=4)\n",
    "\n",
    "# 建立模型\n",
    "clf = GradientBoostingClassifier()\n",
    "\n",
    "# 訓練模型\n",
    "clf.fit(x_train, y_train)\n",
    "\n",
    "# 預測測試集\n",
    "y_pred = clf.predict(x_test)\n",
    "\n",
    "acc = metrics.accuracy_score(y_test, y_pred)\n",
    "print(\"Acuuracy: \", acc)"
   ]
  },
  {
   "cell_type": "code",
   "execution_count": 3,
   "metadata": {},
   "outputs": [
    {
     "name": "stdout",
     "output_type": "stream",
     "text": [
      "Feature importance:  [0.00000000e+00 1.34521104e-03 7.74878073e-03 6.89147953e-03\n",
      " 1.81870376e-03 5.28985505e-02 1.01024745e-02 3.82985167e-05\n",
      " 0.00000000e+00 1.69149380e-03 1.11836213e-02 7.27957209e-04\n",
      " 5.76837521e-03 1.40515899e-02 2.19153606e-03 5.99379114e-04\n",
      " 4.75964077e-04 3.04710670e-03 1.12757659e-02 3.42762358e-02\n",
      " 2.47824241e-02 9.02428267e-02 6.71513585e-03 1.66170654e-09\n",
      " 1.08806702e-04 2.00677579e-03 4.78822366e-02 1.97152666e-02\n",
      " 3.63101435e-02 2.32179547e-02 8.81883495e-03 4.91148986e-04\n",
      " 0.00000000e+00 6.13150658e-02 3.99674386e-03 1.12008247e-03\n",
      " 7.03996632e-02 1.25575161e-02 2.12450957e-02 0.00000000e+00\n",
      " 0.00000000e+00 9.38197547e-03 8.80496437e-02 6.39004732e-02\n",
      " 1.23978438e-02 1.79164601e-02 1.59803917e-02 0.00000000e+00\n",
      " 0.00000000e+00 9.83168188e-04 7.51690688e-03 2.11850896e-02\n",
      " 1.07927620e-02 1.55805937e-02 2.21400488e-02 1.46829877e-04\n",
      " 0.00000000e+00 3.74674336e-04 2.96605746e-02 2.04839087e-03\n",
      " 4.94895786e-02 7.57909809e-03 1.87962074e-02 9.02104231e-03]\n"
     ]
    }
   ],
   "source": [
    "print(\"Feature importance: \", clf.feature_importances_)"
   ]
  }
 ],
 "metadata": {
  "kernelspec": {
   "display_name": "Python 3",
   "language": "python",
   "name": "python3"
  },
  "language_info": {
   "codemirror_mode": {
    "name": "ipython",
    "version": 3
   },
   "file_extension": ".py",
   "mimetype": "text/x-python",
   "name": "python",
   "nbconvert_exporter": "python",
   "pygments_lexer": "ipython3",
   "version": "3.7.1"
  }
 },
 "nbformat": 4,
 "nbformat_minor": 2
}
