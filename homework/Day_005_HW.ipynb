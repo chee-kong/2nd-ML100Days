{
 "cells": [
  {
   "cell_type": "code",
   "execution_count": 1,
   "metadata": {},
   "outputs": [],
   "source": [
    "# Import 需要的套件\n",
    "import os\n",
    "import numpy as np\n",
    "import pandas as pd\n",
    "\n",
    "# 設定 data_path\n",
    "dir_data = './data/'"
   ]
  },
  {
   "cell_type": "code",
   "execution_count": 2,
   "metadata": {},
   "outputs": [],
   "source": [
    "f_app_train = os.path.join(dir_data, 'application_train.csv')\n",
    "app_train = pd.read_csv(f_app_train)"
   ]
  },
  {
   "cell_type": "code",
   "execution_count": 3,
   "metadata": {},
   "outputs": [],
   "source": [
    "import matplotlib.pyplot as plt\n",
    "%matplotlib inline\n",
    "#功能是可以内嵌绘图，并且可以省略掉plt.show()这一步"
   ]
  },
  {
   "cell_type": "markdown",
   "metadata": {},
   "source": [
    "## 練習時間"
   ]
  },
  {
   "cell_type": "markdown",
   "metadata": {},
   "source": [
    "觀察有興趣的欄位的資料分佈，並嘗試找出有趣的訊息\n",
    "#### Eg\n",
    "- 計算任意欄位的平均數及標準差\n",
    "- 畫出任意欄位的[直方圖](https://zh.wikipedia.org/zh-tw/%E7%9B%B4%E6%96%B9%E5%9B%BE)\n",
    "\n",
    "### Hints:\n",
    "- [Descriptive Statistics For pandas Dataframe](https://chrisalbon.com/python/data_wrangling/pandas_dataframe_descriptive_stats/)\n",
    "- [pandas 中的繪圖函數](https://amaozhao.gitbooks.io/pandas-notebook/content/pandas%E4%B8%AD%E7%9A%84%E7%BB%98%E5%9B%BE%E5%87%BD%E6%95%B0.html)\n"
   ]
  },
  {
   "cell_type": "code",
   "execution_count": 7,
   "metadata": {},
   "outputs": [
    {
     "name": "stdout",
     "output_type": "stream",
     "text": [
      "Statistics comparison between 'LIVINGAPARTMENTS_MODE' and 'NONLIVINGAPARTMENTS_MODE\n",
      "Summary statistics on LIVINGAPARTMENTS_MODE count    97312.000000\n",
      "mean         0.105645\n",
      "std          0.097880\n",
      "min          0.000000\n",
      "25%          0.054200\n",
      "50%          0.077100\n",
      "75%          0.131300\n",
      "max          1.000000\n",
      "Name: LIVINGAPARTMENTS_MODE, dtype: float64\n",
      "Summary statistics on NONLIVINGAPARTMENTS_MODE count    93997.000000\n",
      "mean         0.008076\n",
      "std          0.046276\n",
      "min          0.000000\n",
      "25%          0.000000\n",
      "50%          0.000000\n",
      "75%          0.003900\n",
      "max          1.000000\n",
      "Name: NONLIVINGAPARTMENTS_MODE, dtype: float64\n"
     ]
    }
   ],
   "source": [
    "print('Statistics comparison between \\'LIVINGAPARTMENTS_MODE\\' and \\'NONLIVINGAPARTMENTS_MODE')\n",
    "print('Summary statistics on LIVINGAPARTMENTS_MODE', app_train['LIVINGAPARTMENTS_MODE'].describe())\n",
    "print('Summary statistics on NONLIVINGAPARTMENTS_MODE', app_train['NONLIVINGAPARTMENTS_MODE'].describe())"
   ]
  },
  {
   "cell_type": "code",
   "execution_count": 81,
   "metadata": {},
   "outputs": [
    {
     "data": {
      "image/png": "[encoded data removed]",
      "text/plain": [
       "<Figure size 576x288 with 2 Axes>"
      ]
     },
     "metadata": {
      "needs_background": "light"
     },
     "output_type": "display_data"
    }
   ],
   "source": [
    "#app_train['LIVINGAPARTMENTS_MODE'].hist(bins=15)\n",
    "#app_train['NONLIVINGAPARTMENTS_MODE'].hist(bins=15)\n",
    "fig = plt.figure()\n",
    "\n",
    "ax1 = fig.add_subplot(1, 2, 1)\n",
    "ax2 = fig.add_subplot(1, 2, 2)\n",
    "\n",
    "living = app_train['LIVINGAPARTMENTS_MODE']\n",
    "nliving = app_train['NONLIVINGAPARTMENTS_MODE']\n",
    "ax1.hist(living, bins=20, color='k')\n",
    "ax1.set_title('LIVINGAPARTMENTS_MODE')\n",
    "ax1.set_ylabel('Count')\n",
    "ax2.hist(nliving, bins=20, color='r')\n",
    "ax2.set_title('NONLIVINGAPARTMENTS_MODE')\n",
    "ax2.set_ylabel('Count')\n",
    "plt.subplots_adjust(wspace=2, hspace=1000)\n",
    "#plt.legend(loc='best')\n",
    "plt.rc('figure', figsize=(4, 8))"
   ]
  },
  {
   "cell_type": "code",
   "execution_count": null,
   "metadata": {},
   "outputs": [],
   "source": []
  }
 ],
 "metadata": {
  "kernelspec": {
   "display_name": "Python 3",
   "language": "python",
   "name": "python3"
  },
  "language_info": {
   "codemirror_mode": {
    "name": "ipython",
    "version": 3
   },
   "file_extension": ".py",
   "mimetype": "text/x-python",
   "name": "python",
   "nbconvert_exporter": "python",
   "pygments_lexer": "ipython3",
   "version": "3.7.1"
  }
 },
 "nbformat": 4,
 "nbformat_minor": 2
}
